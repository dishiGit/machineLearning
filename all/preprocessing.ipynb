{
 "cells": [
  {
   "cell_type": "code",
   "execution_count": 1,
   "metadata": {},
   "outputs": [],
   "source": [
    "import numpy as np\n",
    "import numpy as np # linear algebra\n",
    "import pandas as pd # data processing, CSV file I/O (e.g. pd.read_csv)\n",
    "import matplotlib.pyplot as plt\n",
    "import cv2\n",
    "\n",
    "#import opencv as cv2\n",
    "\n",
    "img_array = np.load('test_images.npy',encoding='latin1')\n",
    "\n"
   ]
  },
  {
   "cell_type": "code",
   "execution_count": 2,
   "metadata": {},
   "outputs": [
    {
     "data": {
      "text/plain": [
       "10000"
      ]
     },
     "execution_count": 2,
     "metadata": {},
     "output_type": "execute_result"
    }
   ],
   "source": [
    "images = np.load('train_images.npy',encoding='latin1')\n",
    "len(images)\n"
   ]
  },
  {
   "cell_type": "code",
   "execution_count": 3,
   "metadata": {},
   "outputs": [],
   "source": [
    "input=[]\n",
    "for i in range(len(images)):\n",
    "    image1 = (images[i][1]).reshape(100,100)\n",
    "    #plt.imshow(image1)\n",
    "    img = cv2.imwrite('temp.jpg',image1)\n",
    "    img = cv2.imread('temp.jpg',0)\n",
    "    edges = cv2.Canny(img, 0, 100)\n",
    "    #plt.imshow(edges)\n",
    "\n",
    "    im2, contours, hierarchy = cv2.findContours(edges, cv2.RETR_CCOMP,cv2.CHAIN_APPROX_SIMPLE)\n",
    "    cnts = sorted(contours, key = cv2.contourArea, reverse = True)[:1]\n",
    "\n",
    "\n",
    "    mask=np.zeros(img.shape, np.uint8)\n",
    "    cv2.drawContours(mask, cnts, -1, (255),1)\n",
    "    input.append(mask)\n",
    "    #plt.imshow(mask)\n"
   ]
  },
  {
   "cell_type": "code",
   "execution_count": null,
   "metadata": {},
   "outputs": [],
   "source": [
    "from sklearn.linear_model import LogisticRegressionCV\n",
    "from sklearn.model_selection import ShuffleSplit\n",
    "labels = np.loadtxt('train_labels.csv',dtype=str, encoding='latin1',delimiter=',')\n",
    "X = [x.reshape(10000,) for x in input]\n",
    "y = labels[1:,1]\n",
    "\n",
    "\n",
    "baseline = LogisticRegressionCV(cv=ShuffleSplit(), max_iter =50000, multi_class='multinomial')\n",
    "\n",
    "baseline.fit(X,y)\n",
    "print(\"done???\")\n",
    "print(baseline.scores_)"
   ]
  },
  {
   "cell_type": "code",
   "execution_count": null,
   "metadata": {},
   "outputs": [],
   "source": [
    "# produce prediction file\n",
    "result = np.loadtxt('sample_submission.csv',dtype=str, encoding='latin1',delimiter=',')\n",
    "test_array = img_array[:,1].tolist()\n",
    "prediction = baseline.predict(test_array)\n",
    "print(prediction)\n",
    "for i in range(len(prediction)):\n",
    "    result[i+1][1]=prediction[i]\n",
    "\n",
    "print(result)\n",
    "    \n",
    "np.savetxt('baseline_submission.csv', result, delimiter=',', fmt=\"%s\")"
   ]
  },
  {
   "cell_type": "code",
   "execution_count": null,
   "metadata": {},
   "outputs": [],
   "source": [
    "\n"
   ]
  },
  {
   "cell_type": "code",
   "execution_count": null,
   "metadata": {},
   "outputs": [],
   "source": [
    "\n",
    "\n"
   ]
  }
 ],
 "metadata": {
  "kernelspec": {
   "display_name": "Python 3",
   "language": "python",
   "name": "python3"
  },
  "language_info": {
   "codemirror_mode": {
    "name": "ipython",
    "version": 3
   },
   "file_extension": ".py",
   "mimetype": "text/x-python",
   "name": "python",
   "nbconvert_exporter": "python",
   "pygments_lexer": "ipython3",
   "version": "3.7.0"
  }
 },
 "nbformat": 4,
 "nbformat_minor": 2
}
