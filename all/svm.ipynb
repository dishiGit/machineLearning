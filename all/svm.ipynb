{
 "cells": [
  {
   "cell_type": "code",
   "execution_count": 1,
   "metadata": {},
   "outputs": [],
   "source": [
    "import numpy as np\n",
    "import numpy as np # linear algebra\n",
    "# import pandas as pd # data processing, CSV file I/O (e.g. pd.read_csv)\n",
    "import matplotlib.pyplot as plt\n",
    "import cv2\n",
    "\n",
    "#import opencv as cv2\n",
    "\n",
    "img_array = np.load('test_images.npy',encoding='latin1')\n",
    "\n"
   ]
  },
  {
   "cell_type": "code",
   "execution_count": 2,
   "metadata": {},
   "outputs": [
    {
     "data": {
      "text/plain": [
       "10000"
      ]
     },
     "execution_count": 2,
     "metadata": {},
     "output_type": "execute_result"
    }
   ],
   "source": [
    "images = np.load('train_images.npy',encoding='latin1')\n",
    "len(images)\n"
   ]
  },
  {
   "cell_type": "code",
   "execution_count": 3,
   "metadata": {},
   "outputs": [],
   "source": [
    "input=[]\n",
    "for i in range(len(images)):\n",
    "    image1 = (images[i][1]).reshape(100,100)\n",
    "    #plt.imshow(image1)\n",
    "    img = cv2.imwrite('temp.jpg',image1)\n",
    "    img = cv2.imread('temp.jpg',0)\n",
    "    edges = cv2.Canny(img, 0, 100)\n",
    "    #plt.imshow(edges)\n",
    "\n",
    "    im2, contours, hierarchy = cv2.findContours(edges, cv2.RETR_CCOMP,cv2.CHAIN_APPROX_SIMPLE)\n",
    "    cnts = sorted(contours, key = cv2.contourArea, reverse = True)[:3]\n",
    "\n",
    "\n",
    "    mask=np.zeros(img.shape, np.uint8)\n",
    "    cv2.drawContours(mask, cnts, -1, (255),1)\n",
    "    input.append(mask)\n",
    "    #plt.imshow(mask)\n"
   ]
  },
  {
   "cell_type": "code",
   "execution_count": 4,
   "metadata": {},
   "outputs": [
    {
     "name": "stderr",
     "output_type": "stream",
     "text": [
      "C:\\ProgramData\\Anaconda3\\envs\\tf_gpu\\lib\\site-packages\\sklearn\\model_selection\\_split.py:1943: FutureWarning: You should specify a value for 'cv' instead of relying on the default value. The default value will change from 3 to 5 in version 0.22.\n",
      "  warnings.warn(CV_WARNING, FutureWarning)\n",
      "[Parallel(n_jobs=1)]: Using backend SequentialBackend with 1 concurrent workers.\n"
     ]
    },
    {
     "name": "stdout",
     "output_type": "stream",
     "text": [
      "Fitting 3 folds for each of 2000 candidates, totalling 6000 fits\n"
     ]
    },
    {
     "name": "stderr",
     "output_type": "stream",
     "text": [
      "[Parallel(n_jobs=1)]: Done 6000 out of 6000 | elapsed: 254.3min finished\n"
     ]
    },
    {
     "name": "stdout",
     "output_type": "stream",
     "text": [
      "done???\n"
     ]
    }
   ],
   "source": [
    "from sklearn.svm import LinearSVC\n",
    "from sklearn.model_selection import RandomizedSearchCV\n",
    "from scipy.stats import uniform\n",
    "\n",
    "labels = np.loadtxt('train_labels.csv',dtype=str, encoding='latin1',delimiter=',')\n",
    "X = [x.reshape(10000,) for x in input]\n",
    "y = labels[1:,1]\n",
    "\n",
    "\n",
    "svm = LinearSVC(max_iter=50000)\n",
    "svm_params = {\n",
    "    \"tol\": uniform(0,1e-2),\n",
    "    \"C\": uniform(0,10),\n",
    "    \"dual\": (True, False)\n",
    "}\n",
    "\n",
    "baseline = RandomizedSearchCV(svm, svm_params, n_iter=2000,verbose=1)\n",
    "\n",
    "\n",
    "baseline.fit(X,y)\n",
    "print(\"done???\")"
   ]
  },
  {
   "cell_type": "code",
   "execution_count": 5,
   "metadata": {},
   "outputs": [
    {
     "name": "stdout",
     "output_type": "stream",
     "text": [
      "['moustache' 'octagon' 'empty' ... 'nail' 'sink' 'nail']\n",
      "[['Id' 'Category']\n",
      " ['0' 'moustache']\n",
      " ['1' 'octagon']\n",
      " ...\n",
      " ['9997' 'nail']\n",
      " ['9998' 'sink']\n",
      " ['9999' 'nail']]\n"
     ]
    }
   ],
   "source": [
    "# produce prediction file\n",
    "result = np.loadtxt('sample_submission.csv',dtype=str, encoding='latin1',delimiter=',')\n",
    "test_array = img_array[:,1].tolist()\n",
    "prediction = baseline.predict(test_array)\n",
    "print(prediction)\n",
    "for i in range(len(prediction)):\n",
    "    result[i+1][1]=prediction[i]\n",
    "\n",
    "print(result)\n",
    "    \n",
    "np.savetxt('svm_submission.csv', result, delimiter=',', fmt=\"%s\")"
   ]
  },
  {
   "cell_type": "code",
   "execution_count": null,
   "metadata": {},
   "outputs": [],
   "source": [
    "\n"
   ]
  },
  {
   "cell_type": "code",
   "execution_count": null,
   "metadata": {},
   "outputs": [],
   "source": [
    "\n",
    "\n"
   ]
  }
 ],
 "metadata": {
  "kernelspec": {
   "display_name": "Python 3",
   "language": "python",
   "name": "python3"
  },
  "language_info": {
   "codemirror_mode": {
    "name": "ipython",
    "version": 3
   },
   "file_extension": ".py",
   "mimetype": "text/x-python",
   "name": "python",
   "nbconvert_exporter": "python",
   "pygments_lexer": "ipython3",
   "version": "3.6.7"
  }
 },
 "nbformat": 4,
 "nbformat_minor": 2
}
