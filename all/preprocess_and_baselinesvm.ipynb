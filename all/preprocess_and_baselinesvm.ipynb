{
 "cells": [
  {
   "cell_type": "code",
   "execution_count": 2,
   "metadata": {},
   "outputs": [],
   "source": [
    "import numpy as np\n",
    "import numpy as np # linear algebra\n",
    "import pandas as pd # data processing, CSV file I/O (e.g. pd.read_csv)\n",
    "import matplotlib.pyplot as plt\n",
    "import cv2\n",
    "\n",
    "#import opencv as cv2\n",
    "\n",
    "img_array = np.load('test_images.npy',encoding='latin1')\n",
    "\n",
    "images = np.load('train_images.npy',encoding='latin1')"
   ]
  },
  {
   "cell_type": "code",
   "execution_count": 4,
   "metadata": {},
   "outputs": [],
   "source": [
    "import csv\n",
    "def readCSV(path):\n",
    "    with open(path) as csv_file:\n",
    "        result = []\n",
    "        csv_reader = csv.reader(csv_file, delimiter=',')\n",
    "        for row in csv_reader:\n",
    "            line =[]\n",
    "            for data in row:\n",
    "                line.append(data)\n",
    "            result.append(line)\n",
    "    return result\n"
   ]
  },
  {
   "cell_type": "markdown",
   "metadata": {},
   "source": [
    "This function will give an median filter of size r for images"
   ]
  },
  {
   "cell_type": "code",
   "execution_count": 24,
   "metadata": {},
   "outputs": [
    {
     "name": "stdout",
     "output_type": "stream",
     "text": [
      "(10000, 10000)\n"
     ]
    }
   ],
   "source": [
    "def pre_medain(image1,r):\n",
    "    from scipy.ndimage.filters import median_filter\n",
    "    after = median_filter(image1,size=r)\n",
    "    plt.imshow(after)\n",
    "    cv2.imwrite('tempaftermedian.jpg',after)\n",
    "    return after\n"
   ]
  },
  {
   "cell_type": "markdown",
   "metadata": {},
   "source": [
    "This function applied N-largest contour for given image"
   ]
  },
  {
   "cell_type": "code",
   "execution_count": 23,
   "metadata": {},
   "outputs": [],
   "source": [
    "def largestContour(N,image1):\n",
    "    img = cv2.imwrite('temp.jpg',image1)\n",
    "    img = cv2.imread('temp.jpg',0)\n",
    "    edges = cv2.Canny(img, 0, 100)\n",
    "    #plt.imshow(edges)\n",
    "\n",
    "    im2, contours, hierarchy = cv2.findContours(edges, cv2.RETR_CCOMP,cv2.CHAIN_APPROX_SIMPLE)\n",
    "    cnts = sorted(contours, key = cv2.contourArea, reverse = True)[:N]\n",
    "\n",
    "\n",
    "    mask=np.zeros(img.shape)\n",
    "    cv2.drawContours(mask, cnts, -1, (255),1)\n",
    "    return mask\n"
   ]
  },
  {
   "cell_type": "code",
   "execution_count": 42,
   "metadata": {},
   "outputs": [
    {
     "name": "stdout",
     "output_type": "stream",
     "text": [
      "(10000, 10000)\n"
     ]
    },
    {
     "data": {
      "image/png": "[encoded data removed]",
      "text/plain": [
       "<Figure size 432x288 with 1 Axes>"
      ]
     },
     "metadata": {
      "needs_background": "light"
     },
     "output_type": "display_data"
    }
   ],
   "source": [
    "input=[]\n",
    "for i in range(len(images)):\n",
    "    image1 = (images[i][1]).reshape(100,100)\n",
    "    mask=largestContour(3,image1)\n",
    "    input.append(mask)\n",
    "    \n",
    "plt.imshow(input[0])"
   ]
  },
  {
   "cell_type": "code",
   "execution_count": 44,
   "metadata": {},
   "outputs": [
    {
     "name": "stderr",
     "output_type": "stream",
     "text": [
      "/anaconda3/lib/python3.5/site-packages/sklearn/utils/validation.py:578: DataConversionWarning: A column-vector y was passed when a 1d array was expected. Please change the shape of y to (n_samples, ), for example using ravel().\n",
      "  y = column_or_1d(y, warn=True)\n"
     ]
    },
    {
     "name": "stdout",
     "output_type": "stream",
     "text": [
      "0.3035\n",
      "0.3985\n",
      "0.433\n",
      "0.4055\n",
      "0.4055\n",
      "0.35\n",
      "0.2805\n",
      "0.26\n"
     ]
    }
   ],
   "source": [
    "from sklearn import metrics\n",
    "from sklearn.model_selection import GridSearchCV\n",
    "from sklearn.svm import SVC\n",
    "from sklearn.svm import LinearSVC\n",
    "from sklearn.neural_network import MLPClassifier\n",
    "labels = np.loadtxt('train_labels.csv',dtype=str, encoding='latin1',delimiter=',')\n",
    "input=[]\n",
    "for i in range(len(images)):\n",
    "    image1 = (images[i][1]).reshape(100,100)\n",
    "    mask=\n",
    "    input.append(mask)\n",
    "    \n",
    "plt.imshow(input[0])\n",
    "X = [x.reshape(10000,) for x in input]\n",
    "y = labels[1:,1]\n",
    "c = [0.00001,0.0001,0.001,0.01,0.01,0.1,1,10]\n",
    "for i in range(len(c)):\n",
    "    clf = LinearSVC(C=c[i])\n",
    "    clf.fit(X[:8000],y[:8000])\n",
    "    print(metrics.accuracy_score(X[8000:], clf.predict(y[8000:])))\n"
   ]
  },
  {
   "cell_type": "code",
   "execution_count": null,
   "metadata": {},
   "outputs": [
    {
     "name": "stdout",
     "output_type": "stream",
     "text": [
      "0.03\n",
      "0.03\n",
      "0.03\n",
      "0.03\n",
      "0.03\n",
      "0.03\n",
      "0.03\n",
      "0.03\n"
     ]
    }
   ],
   "source": [
    "from sklearn import metrics\n",
    "from sklearn.model_selection import GridSearchCV\n",
    "from sklearn.svm import SVC\n",
    "from sklearn.svm import LinearSVC\n",
    "from sklearn.neural_network import MLPClassifier\n",
    "labels = np.loadtxt('train_labels.csv',dtype=str, encoding='latin1',delimiter=',')\n",
    "\n",
    "input=[]\n",
    "for i in range(len(images)):\n",
    "    image1 = (images[i][1]).reshape(100,100)\n",
    "    mask=pre_medain(image1,4)\n",
    "    input.append(mask)\n",
    "    \n",
    "    \n",
    "X = [x.reshape(10000,) for x in input]\n",
    "\n",
    "c = [0.00001,0.0001,0.001,0.01,0.01,0.1,1,10]\n",
    "for i in range(len(c)):\n",
    "    clf = LinearSVC(C=c[i])\n",
    "    clf.fit(X[:8000],y[:8000])\n",
    "    print(metrics.accuracy_score(y[8000:], clf.predict(X[8000:])))\n"
   ]
  },
  {
   "cell_type": "code",
   "execution_count": 51,
   "metadata": {},
   "outputs": [
    {
     "name": "stdout",
     "output_type": "stream",
     "text": [
      "0.039\n",
      "0.039\n",
      "0.039\n",
      "0.039\n",
      "0.039\n",
      "0.039\n",
      "0.039\n",
      "0.039\n"
     ]
    }
   ],
   "source": [
    "input=[]\n",
    "for i in range(len(images)):\n",
    "    image1 = (images[i][1]).reshape(100,100)\n",
    "    input.append(image1)\n",
    "    \n",
    "\n",
    "labels = np.loadtxt('train_labels.csv',dtype=str, encoding='latin1',delimiter=',')\n",
    "X = [x.reshape(10000,) for x in input]\n",
    "y = labels[1:,1]\n",
    "c = [0.00001,0.0001,0.001,0.01,0.01,0.1,1,10]\n",
    "for i in range(len(c)):\n",
    "    clf = LinearSVC(C=c[i])\n",
    "    clf.fit(X[:8000],y[:8000])\n",
    "    print(metrics.accuracy_score(y[8000:], clf.predict(X[8000:])))\n"
   ]
  }
 ],
 "metadata": {
  "kernelspec": {
   "display_name": "Python 3",
   "language": "python",
   "name": "python3"
  },
  "language_info": {
   "codemirror_mode": {
    "name": "ipython",
    "version": 3
   },
   "file_extension": ".py",
   "mimetype": "text/x-python",
   "name": "python",
   "nbconvert_exporter": "python",
   "pygments_lexer": "ipython3",
   "version": "3.5.5"
  }
 },
 "nbformat": 4,
 "nbformat_minor": 2
}
