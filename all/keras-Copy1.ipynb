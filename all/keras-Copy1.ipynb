{
 "cells": [
  {
   "cell_type": "code",
   "execution_count": 1,
   "metadata": {
    "scrolled": true
   },
   "outputs": [
    {
     "name": "stderr",
     "output_type": "stream",
     "text": [
      "Using TensorFlow backend.\n"
     ]
    }
   ],
   "source": [
    "import numpy as np\n",
    "import keras\n",
    "from keras.models import Sequential\n",
    "from keras.layers import Conv2D, Dense, MaxPooling2D, Dropout, Flatten, AlphaDropout, SpatialDropout2D, Cropping2D\n",
    "from keras.constraints import maxnorm\n",
    "from sklearn.preprocessing import LabelEncoder\n",
    "from sklearn.utils import shuffle\n",
    "\n",
    "import cv2\n",
    "\n",
    "import matplotlib.pyplot as plt\n",
    "import matplotlib.image as mpimg\n",
    "\n",
    "%matplotlib inline"
   ]
  },
  {
   "cell_type": "code",
   "execution_count": 2,
   "metadata": {},
   "outputs": [],
   "source": [
    "# preprocessing\n",
    "np.set_printoptions(threshold=20000)\n",
    "\n",
    "# load data\n",
    "image_data='train_images.npy'\n",
    "label_data='train_labels.csv'\n",
    "\n",
    "# images = np.load(image_data, encoding='latin1')\n",
    "images = np.load(image_data, encoding='latin1')[:,1]\n",
    "labels = np.loadtxt(label_data, dtype=str, encoding='latin1', delimiter=',')[1:,1]"
   ]
  },
  {
   "cell_type": "code",
   "execution_count": 3,
   "metadata": {},
   "outputs": [],
   "source": [
    "# a=[]\n",
    "# for i in range(len(images)):\n",
    "#     image1 = (images[i][1]).reshape(100,100)\n",
    "#     #plt.imshow(image1)\n",
    "#     img = cv2.imwrite('temp.jpg',image1)\n",
    "#     img = cv2.imread('temp.jpg',0)\n",
    "#     edges = cv2.Canny(img, 0, 100)\n",
    "#     #plt.imshow(edges)\n",
    "\n",
    "#     im2, contours, hierarchy = cv2.findContours(edges, cv2.RETR_CCOMP,cv2.CHAIN_APPROX_SIMPLE)\n",
    "#     cnts = sorted(contours, key = cv2.contourArea, reverse = True)[:1]\n",
    "\n",
    "\n",
    "#     mask=np.zeros(img.shape, np.uint8)\n",
    "#     cv2.drawContours(mask, cnts, -1, (255),1)\n",
    "#     a.append(mask)\n",
    "#     #plt.imshow(mask)"
   ]
  },
  {
   "cell_type": "code",
   "execution_count": 4,
   "metadata": {},
   "outputs": [],
   "source": [
    "# reshape X to \"2d\" form\n",
    "# print(images[0])\n",
    "# print(images.shape)\n",
    "X = np.reshape(images.tolist(), (-1,100,100,1))\n",
    "X = X.astype('float32')/255\n",
    "\n",
    "\n",
    "# one-hot encoding for y\n",
    "encoder=LabelEncoder()\n",
    "encoder.fit(labels)\n",
    "y_encoded = encoder.transform(labels)\n",
    "y = keras.utils.to_categorical(y_encoded)\n",
    "\n",
    "# shuffle(X,y)\n",
    "# X = X[:1000]\n",
    "# y = y[:1000]"
   ]
  },
  {
   "cell_type": "code",
   "execution_count": 5,
   "metadata": {},
   "outputs": [
    {
     "name": "stdout",
     "output_type": "stream",
     "text": [
      "_________________________________________________________________\n",
      "Layer (type)                 Output Shape              Param #   \n",
      "=================================================================\n",
      "cropping2d_1 (Cropping2D)    (None, 96, 96, 1)         0         \n",
      "_________________________________________________________________\n",
      "conv2d_1 (Conv2D)            (None, 96, 96, 16)        800       \n",
      "_________________________________________________________________\n",
      "max_pooling2d_1 (MaxPooling2 (None, 48, 48, 16)        0         \n",
      "_________________________________________________________________\n",
      "dropout_1 (Dropout)          (None, 48, 48, 16)        0         \n",
      "_________________________________________________________________\n",
      "conv2d_2 (Conv2D)            (None, 48, 48, 16)        6416      \n",
      "_________________________________________________________________\n",
      "max_pooling2d_2 (MaxPooling2 (None, 24, 24, 16)        0         \n",
      "_________________________________________________________________\n",
      "dropout_2 (Dropout)          (None, 24, 24, 16)        0         \n",
      "_________________________________________________________________\n",
      "conv2d_3 (Conv2D)            (None, 24, 24, 32)        4640      \n",
      "_________________________________________________________________\n",
      "max_pooling2d_3 (MaxPooling2 (None, 6, 6, 32)          0         \n",
      "_________________________________________________________________\n",
      "dropout_3 (Dropout)          (None, 6, 6, 32)          0         \n",
      "_________________________________________________________________\n",
      "conv2d_4 (Conv2D)            (None, 6, 6, 16)          4624      \n",
      "_________________________________________________________________\n",
      "max_pooling2d_4 (MaxPooling2 (None, 3, 3, 16)          0         \n",
      "_________________________________________________________________\n",
      "dropout_4 (Dropout)          (None, 3, 3, 16)          0         \n",
      "_________________________________________________________________\n",
      "conv2d_5 (Conv2D)            (None, 3, 3, 16)          1040      \n",
      "_________________________________________________________________\n",
      "flatten_1 (Flatten)          (None, 144)               0         \n",
      "_________________________________________________________________\n",
      "dense_1 (Dense)              (None, 31)                4495      \n",
      "=================================================================\n",
      "Total params: 22,015\n",
      "Trainable params: 22,015\n",
      "Non-trainable params: 0\n",
      "_________________________________________________________________\n",
      "None\n"
     ]
    }
   ],
   "source": [
    "model = Sequential()\n",
    "\n",
    "model.add(Cropping2D(2, input_shape=(100,100,1)))\n",
    "# model.add(Dropout(0.5))\n",
    "model.add(Conv2D(16, 7, padding='same', activation='relu'))\n",
    "model.add(MaxPooling2D(pool_size=2))\n",
    "model.add(Dropout(0.25))\n",
    "model.add(Conv2D(16, 5, padding='same', activation='relu'))\n",
    "model.add(MaxPooling2D(pool_size=2))\n",
    "model.add(Dropout(0.15))\n",
    "# model.add(Conv2D(8, 3, padding='same', activation='relu'))\n",
    "model.add(Conv2D(32, 3, padding='same', activation='relu'))\n",
    "# model.add(Conv2D(16, 3, padding='same', activation='relu'))\n",
    "# model.add(Conv2D(16, 5, padding='same', activation='relu'))\n",
    "# model.add(Dropout(0.25))\n",
    "# model.add(Conv2D(16, 5, padding='same', activation='relu'))\n",
    "# model.add(Conv2D(32, 5, padding='same', activation='relu'))\n",
    "model.add(MaxPooling2D(pool_size=4))\n",
    "model.add(Dropout(0.05))\n",
    "model.add(Conv2D(16, 3, padding='same', activation='relu'))\n",
    "model.add(MaxPooling2D(pool_size=2))\n",
    "model.add(Dropout(0.05))\n",
    "model.add(Conv2D(16, 2, padding='same', activation='relu'))\n",
    "\n",
    "# model.add(MaxPooling2D(pool_size=2))\n",
    "# model.add(Conv2D(32, 2, padding='same', activation='relu'))\n",
    "\n",
    "# model.add(Conv2D(64, 3, padding='same', activation='relu'))\n",
    "# model.add(Conv2D(64, 3, padding='same', activation='relu'))\n",
    "\n",
    "\n",
    "# # model.add(Conv2D(128, 7, padding='same', activation='relu'))\n",
    "# # model.add(Conv2D(128, 7, padding='same', activation='relu'))\n",
    "\n",
    "# # model.add(MaxPooling2D(pool_size=(2,2)))\n",
    "\n",
    "\n",
    "# model.add(Conv2D(64, 5, padding='same', activation='relu'))\n",
    "# model.add(Conv2D(64, 5, padding='same', activation='relu'))\n",
    "# model.add(Conv2D(64, 5, padding='same', activation='relu'))\n",
    "# model.add(MaxPooling2D(pool_size=(2, 2)))\n",
    "# # model.add(Dropout(0.2))\n",
    "\n",
    "# model.add(Conv2D(64, 3, padding='same', activation='relu'))\n",
    "# # model.add(Conv2D(128, 3, padding='same', activation='relu'))\n",
    "# model.add(Conv2D(64, 3, padding='same', activation='relu'))\n",
    "# model.add(Conv2D(64, 3, padding='same', activation='relu'))\n",
    "# # model.add(MaxPooling2D(pool_size=(2, 2)))\n",
    "# # model.add(Dropout(0.2))\n",
    "\n",
    "# model.add(Conv2D(64, 2, padding='same', activation='relu'))\n",
    "# model.add(Conv2D(64, 2, padding='same', activation='relu'))\n",
    "# model.add(Conv2D(64, 2, padding='same', activation='relu'))\n",
    "# model.add(Conv2D(64, 2, padding='same', activation='relu'))\n",
    "# model.add(MaxPooling2D(pool_size=(2, 2)))\n",
    "# model.add(Conv2D(64, 2, padding='same', activation='relu'))\n",
    "# model.add(Conv2D(64, 2, padding='same', activation='relu'))\n",
    "# model.add(Conv2D(64, 2, padding='same', activation='relu'))\n",
    "# model.add(Conv2D(64, 2, padding='same', activation='relu'))\n",
    "# model.add(MaxPooling2D(pool_size=(2, 2)))\n",
    "# model.add(Conv2D(64, 2, padding='same', activation='relu'))\n",
    "# model.add(Conv2D(64, 2, padding='same', activation='relu'))\n",
    "# model.add(Conv2D(64, 2, padding='same', activation='relu'))\n",
    "# model.add(Conv2D(64, 2, padding='same', activation='relu'))\n",
    "\n",
    "# model.add(Conv2D(256, 2, padding='same', activation='relu'))\n",
    "\n",
    "model.add(Flatten())\n",
    "# model.add(Dense(256, activation='relu'))\n",
    "# model.add(Dense(256, activation='relu'))\n",
    "# model.add(Dense(256, activation='relu'))\n",
    "# model.add(Dropout(0.5))\n",
    "model.add(Dense(31, activation='softmax'))\n",
    "\n",
    "model.compile(loss='categorical_crossentropy', optimizer='nadam', metrics=['accuracy'])\n",
    "print(model.summary())\n",
    "\n"
   ]
  },
  {
   "cell_type": "code",
   "execution_count": 6,
   "metadata": {
    "scrolled": false
   },
   "outputs": [
    {
     "name": "stdout",
     "output_type": "stream",
     "text": [
      "Train on 8000 samples, validate on 2000 samples\n",
      "Epoch 1/40\n",
      "8000/8000 [==============================] - 6s 707us/step - loss: 3.3907 - acc: 0.0510 - val_loss: 3.3866 - val_acc: 0.0575\n",
      "Epoch 2/40\n",
      "8000/8000 [==============================] - 4s 454us/step - loss: 3.3819 - acc: 0.0540 - val_loss: 3.3862 - val_acc: 0.0505\n",
      "Epoch 3/40\n",
      "8000/8000 [==============================] - 4s 452us/step - loss: 3.2533 - acc: 0.0696 - val_loss: 3.0746 - val_acc: 0.0955\n",
      "Epoch 4/40\n",
      "8000/8000 [==============================] - 4s 452us/step - loss: 2.9932 - acc: 0.1126 - val_loss: 2.8791 - val_acc: 0.1455\n",
      "Epoch 5/40\n",
      "8000/8000 [==============================] - 4s 454us/step - loss: 2.8339 - acc: 0.1589 - val_loss: 2.7492 - val_acc: 0.1830\n",
      "Epoch 6/40\n",
      "8000/8000 [==============================] - 4s 453us/step - loss: 2.7162 - acc: 0.1891 - val_loss: 2.6392 - val_acc: 0.2220\n",
      "Epoch 7/40\n",
      "8000/8000 [==============================] - 4s 452us/step - loss: 2.5209 - acc: 0.2427 - val_loss: 2.4317 - val_acc: 0.2695\n",
      "Epoch 8/40\n",
      "8000/8000 [==============================] - 4s 451us/step - loss: 2.3340 - acc: 0.2915 - val_loss: 2.2760 - val_acc: 0.3095\n",
      "Epoch 9/40\n",
      "8000/8000 [==============================] - 4s 453us/step - loss: 2.2220 - acc: 0.3232 - val_loss: 2.1593 - val_acc: 0.3500\n",
      "Epoch 10/40\n",
      "8000/8000 [==============================] - 4s 452us/step - loss: 2.1098 - acc: 0.3641 - val_loss: 2.1097 - val_acc: 0.3650\n",
      "Epoch 11/40\n",
      "8000/8000 [==============================] - 4s 452us/step - loss: 2.0245 - acc: 0.3764 - val_loss: 1.9984 - val_acc: 0.4110\n",
      "Epoch 12/40\n",
      "8000/8000 [==============================] - 4s 455us/step - loss: 1.9776 - acc: 0.4029 - val_loss: 2.0296 - val_acc: 0.4065\n",
      "Epoch 13/40\n",
      "8000/8000 [==============================] - 4s 453us/step - loss: 1.9078 - acc: 0.4178 - val_loss: 1.9245 - val_acc: 0.4210\n",
      "Epoch 14/40\n",
      "8000/8000 [==============================] - 4s 463us/step - loss: 1.8529 - acc: 0.4282 - val_loss: 1.9066 - val_acc: 0.4345\n",
      "Epoch 15/40\n",
      "8000/8000 [==============================] - 4s 459us/step - loss: 1.8089 - acc: 0.4474 - val_loss: 1.9053 - val_acc: 0.4360\n",
      "Epoch 16/40\n",
      "8000/8000 [==============================] - 4s 453us/step - loss: 1.7749 - acc: 0.4604 - val_loss: 1.8516 - val_acc: 0.4580\n",
      "Epoch 17/40\n",
      "8000/8000 [==============================] - 4s 453us/step - loss: 1.7216 - acc: 0.4710 - val_loss: 1.8612 - val_acc: 0.4570\n",
      "Epoch 18/40\n",
      "8000/8000 [==============================] - 4s 453us/step - loss: 1.6809 - acc: 0.4910 - val_loss: 1.8203 - val_acc: 0.4770\n",
      "Epoch 19/40\n",
      "8000/8000 [==============================] - 4s 453us/step - loss: 1.6625 - acc: 0.4900 - val_loss: 1.8050 - val_acc: 0.4665\n",
      "Epoch 20/40\n",
      "8000/8000 [==============================] - 4s 453us/step - loss: 1.6441 - acc: 0.4948 - val_loss: 1.7957 - val_acc: 0.4655\n",
      "Epoch 21/40\n",
      "8000/8000 [==============================] - 4s 454us/step - loss: 1.6118 - acc: 0.5099 - val_loss: 1.7637 - val_acc: 0.4690\n",
      "Epoch 22/40\n",
      "8000/8000 [==============================] - 4s 456us/step - loss: 1.5960 - acc: 0.5144 - val_loss: 1.7830 - val_acc: 0.4660\n",
      "Epoch 23/40\n",
      "8000/8000 [==============================] - 4s 454us/step - loss: 1.5600 - acc: 0.5164 - val_loss: 1.7262 - val_acc: 0.4895\n",
      "Epoch 24/40\n",
      "8000/8000 [==============================] - 4s 454us/step - loss: 1.5643 - acc: 0.5254 - val_loss: 1.7892 - val_acc: 0.4755\n",
      "Epoch 25/40\n",
      "8000/8000 [==============================] - 4s 453us/step - loss: 1.5475 - acc: 0.5199 - val_loss: 1.7311 - val_acc: 0.4995\n",
      "Epoch 26/40\n",
      "8000/8000 [==============================] - 4s 453us/step - loss: 1.5262 - acc: 0.5319 - val_loss: 1.7031 - val_acc: 0.5035\n",
      "Epoch 27/40\n",
      "8000/8000 [==============================] - 4s 453us/step - loss: 1.4926 - acc: 0.5380 - val_loss: 1.7639 - val_acc: 0.4840\n",
      "Epoch 28/40\n",
      "8000/8000 [==============================] - 4s 454us/step - loss: 1.4987 - acc: 0.5417 - val_loss: 1.6688 - val_acc: 0.5195\n",
      "Epoch 29/40\n",
      "8000/8000 [==============================] - 4s 454us/step - loss: 1.4781 - acc: 0.5456 - val_loss: 1.6891 - val_acc: 0.5105\n",
      "Epoch 30/40\n",
      "8000/8000 [==============================] - 4s 453us/step - loss: 1.4501 - acc: 0.5520 - val_loss: 1.6307 - val_acc: 0.5280\n",
      "Epoch 31/40\n",
      "8000/8000 [==============================] - 4s 454us/step - loss: 1.4558 - acc: 0.5618 - val_loss: 1.6693 - val_acc: 0.5180\n",
      "Epoch 32/40\n",
      "8000/8000 [==============================] - 4s 455us/step - loss: 1.4320 - acc: 0.5599 - val_loss: 1.6777 - val_acc: 0.5090\n",
      "Epoch 33/40\n",
      "8000/8000 [==============================] - 4s 454us/step - loss: 1.4360 - acc: 0.5560 - val_loss: 1.6281 - val_acc: 0.5240\n",
      "Epoch 34/40\n",
      "8000/8000 [==============================] - 4s 454us/step - loss: 1.4061 - acc: 0.5680 - val_loss: 1.6331 - val_acc: 0.5215\n",
      "Epoch 35/40\n",
      "8000/8000 [==============================] - 4s 454us/step - loss: 1.4084 - acc: 0.5696 - val_loss: 1.7450 - val_acc: 0.4790\n",
      "Epoch 36/40\n",
      "8000/8000 [==============================] - 4s 454us/step - loss: 1.3854 - acc: 0.5739 - val_loss: 1.6453 - val_acc: 0.5425\n",
      "Epoch 37/40\n",
      "8000/8000 [==============================] - 4s 454us/step - loss: 1.3652 - acc: 0.5745 - val_loss: 1.6100 - val_acc: 0.5240\n",
      "Epoch 38/40\n",
      "8000/8000 [==============================] - 4s 454us/step - loss: 1.3710 - acc: 0.5756 - val_loss: 1.5764 - val_acc: 0.5440\n",
      "Epoch 39/40\n",
      "8000/8000 [==============================] - 4s 455us/step - loss: 1.3497 - acc: 0.5790 - val_loss: 1.6484 - val_acc: 0.5290\n",
      "Epoch 40/40\n",
      "8000/8000 [==============================] - 4s 454us/step - loss: 1.3458 - acc: 0.5867 - val_loss: 1.5740 - val_acc: 0.5560\n"
     ]
    },
    {
     "data": {
      "text/plain": [
       "<keras.callbacks.History at 0x215b8bea3c8>"
      ]
     },
     "execution_count": 6,
     "metadata": {},
     "output_type": "execute_result"
    }
   ],
   "source": [
    "model.fit(X, y, validation_split=0.2, epochs=40, batch_size=16)\n"
   ]
  },
  {
   "cell_type": "code",
   "execution_count": 7,
   "metadata": {},
   "outputs": [
    {
     "name": "stdout",
     "output_type": "stream",
     "text": [
      "Test Loss: 116.46%\n",
      "Test Accuracy: 65.47%\n"
     ]
    }
   ],
   "source": [
    "scores1 = model.evaluate(X, y, verbose=0)\n",
    "print(\"Test Loss: %.2f%%\" % (scores1[0]*100))\n",
    "print(\"Test Accuracy: %.2f%%\" % (scores1[1]*100))"
   ]
  },
  {
   "cell_type": "code",
   "execution_count": 8,
   "metadata": {},
   "outputs": [],
   "source": [
    "model.save(\"model.h5\")"
   ]
  },
  {
   "cell_type": "code",
   "execution_count": 9,
   "metadata": {},
   "outputs": [
    {
     "ename": "TypeError",
     "evalue": "'AxesSubplot' object does not support indexing",
     "output_type": "error",
     "traceback": [
      "\u001b[1;31m---------------------------------------------------------------------------\u001b[0m",
      "\u001b[1;31mTypeError\u001b[0m                                 Traceback (most recent call last)",
      "\u001b[1;32m<ipython-input-9-73e34c6dde10>\u001b[0m in \u001b[0;36m<module>\u001b[1;34m\u001b[0m\n\u001b[0;32m      3\u001b[0m \u001b[1;33m\u001b[0m\u001b[0m\n\u001b[0;32m      4\u001b[0m \u001b[1;32mfor\u001b[0m \u001b[0mi\u001b[0m \u001b[1;32min\u001b[0m \u001b[0mrange\u001b[0m\u001b[1;33m(\u001b[0m\u001b[1;36m4\u001b[0m\u001b[1;33m)\u001b[0m\u001b[1;33m:\u001b[0m\u001b[1;33m\u001b[0m\u001b[1;33m\u001b[0m\u001b[0m\n\u001b[1;32m----> 5\u001b[1;33m     \u001b[0maxarr\u001b[0m\u001b[1;33m[\u001b[0m\u001b[1;36m0\u001b[0m\u001b[1;33m]\u001b[0m\u001b[1;33m[\u001b[0m\u001b[0mi\u001b[0m\u001b[1;33m]\u001b[0m\u001b[1;33m.\u001b[0m\u001b[0mimshow\u001b[0m\u001b[1;33m(\u001b[0m\u001b[0mnp\u001b[0m\u001b[1;33m.\u001b[0m\u001b[0mreshape\u001b[0m\u001b[1;33m(\u001b[0m\u001b[0mX\u001b[0m\u001b[1;33m[\u001b[0m\u001b[0mi\u001b[0m\u001b[1;33m]\u001b[0m\u001b[1;33m,\u001b[0m\u001b[1;33m(\u001b[0m\u001b[1;36m100\u001b[0m\u001b[1;33m,\u001b[0m\u001b[1;36m100\u001b[0m\u001b[1;33m)\u001b[0m\u001b[1;33m)\u001b[0m\u001b[1;33m,\u001b[0m \u001b[0mcmap\u001b[0m\u001b[1;33m=\u001b[0m\u001b[1;34m'hot'\u001b[0m\u001b[1;33m,\u001b[0m \u001b[0minterpolation\u001b[0m\u001b[1;33m=\u001b[0m\u001b[1;34m'nearest'\u001b[0m\u001b[1;33m)\u001b[0m\u001b[1;33m\u001b[0m\u001b[1;33m\u001b[0m\u001b[0m\n\u001b[0m",
      "\u001b[1;31mTypeError\u001b[0m: 'AxesSubplot' object does not support indexing"
     ]
    },
    {
     "data": {
      "image/png": "[encoded data removed]",
      "text/plain": [
       "<Figure size 432x288 with 4 Axes>"
      ]
     },
     "metadata": {
      "needs_background": "light"
     },
     "output_type": "display_data"
    }
   ],
   "source": [
    "f, axarr = plt.subplots(1, 4)\n",
    "f.subplots_adjust(hspace=0.5)\n",
    "\n",
    "for i in range(4):\n",
    "    axarr[0][i].imshow(np.reshape(X[i],(100,100)), cmap='hot', interpolation='nearest')"
   ]
  }
 ],
 "metadata": {
  "kernelspec": {
   "display_name": "Python 3",
   "language": "python",
   "name": "python3"
  },
  "language_info": {
   "codemirror_mode": {
    "name": "ipython",
    "version": 3
   },
   "file_extension": ".py",
   "mimetype": "text/x-python",
   "name": "python",
   "nbconvert_exporter": "python",
   "pygments_lexer": "ipython3",
   "version": "3.6.7"
  }
 },
 "nbformat": 4,
 "nbformat_minor": 2
}
